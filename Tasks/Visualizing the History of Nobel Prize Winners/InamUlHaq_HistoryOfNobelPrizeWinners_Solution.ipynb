{
 "cells": [
  {
   "cell_type": "code",
   "execution_count": 3,
   "metadata": {},
   "outputs": [
    {
     "name": "stdout",
     "output_type": "stream",
     "text": [
      "most common gender:  Male\n",
      "most common birth country:  United States of America\n",
      "decade with highest ratio of US-born winners:  2000\n",
      "decade and category with highest proportion of female laureates: {2020: 'Literature'}\n",
      "first woman to receive nobel prize: Marie Curie, née Sklodowska , Category: Physics\n",
      "individuals or organizations with more than one nobel prize: ['Comité international de la Croix Rouge (International Committee of the Red Cross)', 'Linus Carl Pauling', 'John Bardeen', 'Frederick Sanger', 'Marie Curie, née Sklodowska', 'Office of the United Nations High Commissioner for Refugees (UNHCR)']\n"
     ]
    }
   ],
   "source": [
    "import pandas as pd\n",
    "nobel_data = pd.read_csv('nobel.csv')\n",
    "\n",
    "top_gender = nobel_data['sex'].mode()[0]\n",
    "top_country = nobel_data['birth_country'].mode()[0]\n",
    "\n",
    "nobel_data['decade'] = (nobel_data['year'] // 10) * 10\n",
    "usa_winners = nobel_data[nobel_data['birth_country'] == 'United States of America'].groupby('decade').size()\n",
    "total_winners = nobel_data.groupby('decade').size()\n",
    "temp_max_decade_usa = (usa_winners / total_winners).fillna(0)\n",
    "max_decade_usa = temp_max_decade_usa.idxmax()\n",
    "\n",
    "female_winners = nobel_data[nobel_data['sex'] == 'Female'].groupby(['decade', 'category']).size()\n",
    "total_winners_category_decade = nobel_data.groupby(['decade', 'category']).size()\n",
    "proportion_female = (female_winners / total_winners_category_decade).fillna(0)\n",
    "max_female_combination = proportion_female.idxmax()\n",
    "max_female_dict = {max_female_combination[0]: max_female_combination[1]}\n",
    "\n",
    "first_woman = nobel_data[nobel_data['sex'] == 'Female'].sort_values(by='year').iloc[0]\n",
    "first_woman_name = first_woman['full_name']\n",
    "first_woman_category = first_woman['category']\n",
    "\n",
    "repeat_winners = nobel_data['full_name'].value_counts()\n",
    "repeat_list = repeat_winners[repeat_winners > 1].index.tolist()\n",
    "\n",
    "print(\"most common gender: \", top_gender)\n",
    "print(\"most common birth country: \", top_country)\n",
    "print(\"decade with highest ratio of US-born winners: \", max_decade_usa)\n",
    "print(\"decade and category with highest proportion of female laureates:\", max_female_dict)\n",
    "print(\"first woman to receive nobel prize:\", first_woman_name, \", Category:\", first_woman_category)\n",
    "print(\"individuals or organizations with more than one nobel prize:\", repeat_list)\n"
   ]
  }
 ],
 "metadata": {
  "kernelspec": {
   "display_name": "Python 3",
   "language": "python",
   "name": "python3"
  },
  "language_info": {
   "codemirror_mode": {
    "name": "ipython",
    "version": 3
   },
   "file_extension": ".py",
   "mimetype": "text/x-python",
   "name": "python",
   "nbconvert_exporter": "python",
   "pygments_lexer": "ipython3",
   "version": "3.12.2"
  }
 },
 "nbformat": 4,
 "nbformat_minor": 2
}
