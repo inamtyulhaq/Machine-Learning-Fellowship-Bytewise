# mainly taken help from solution
import pandas as pd
import numpy as np
from statsmodels.formula.api import logit

data = pd.read_csv("car_insurance.csv")

best_accuracy = 0 
best_feature = None

for column in data.columns[:-1]:

    regression_formula = f"outcome ~ {column}"
    logit_model = logit(formula=regression_formula, data=data).fit()
    probabilities = logit_model.predict(data[column])
    predictions = np.where(probabilities > 0.5, 1, 0)
    accuracy = np.mean(predictions == data["outcome"].values)

    
    if accuracy > best_accuracy:
        best_accuracy = accuracy
        best_feature = column

best_feature_info = pd.DataFrame({"best_feature": [best_feature], "best_accuracy": [best_accuracy]})

print(best_feature_info)
