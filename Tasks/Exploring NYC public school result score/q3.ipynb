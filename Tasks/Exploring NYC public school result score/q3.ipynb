{
 "cells": [
  {
   "cell_type": "code",
   "execution_count": 1,
   "metadata": {},
   "outputs": [
    {
     "name": "stdout",
     "output_type": "stream",
     "text": [
      "Borough: Manhattan\n",
      "Number of Schools: 89\n",
      "Average SAT Score: 1340.13\n",
      "Standard Deviation of SAT Scores: 230.29\n"
     ]
    }
   ],
   "source": [
    "import pandas as pd\n",
    "\n",
    "math_score = pd.read_csv(\"schools.csv\")\n",
    "\n",
    "math_score['total_SAT'] = math_score['average_math'] + math_score['average_reading'] + math_score['average_writing']\n",
    "\n",
    "num_schools = math_score.groupby('borough')['school_name'].count().reset_index()\n",
    "num_schools.columns = ['borough', 'num_schools']\n",
    "\n",
    "average_SAT = math_score.groupby('borough')['total_SAT'].mean().reset_index()\n",
    "average_SAT.columns = ['borough', 'average_SAT']\n",
    "\n",
    "std_SAT = math_score.groupby('borough')['total_SAT'].std().reset_index()\n",
    "std_SAT.columns = ['borough', 'std_SAT']\n",
    "\n",
    "borough_stats = pd.merge(pd.merge(num_schools, average_SAT, on='borough'), std_SAT, on='borough')\n",
    "\n",
    "temp_largest_std_dev = borough_stats['std_SAT'].max()\n",
    "largest_std_dev = borough_stats.loc[borough_stats['std_SAT'] == temp_largest_std_dev].iloc[0]\n",
    "\n",
    "print(\"Borough:\", largest_std_dev['borough'])\n",
    "print(\"Number of Schools:\", round(largest_std_dev['num_schools'], 2))\n",
    "print(\"Average SAT Score:\", round(largest_std_dev['average_SAT'], 2))\n",
    "print(\"Standard Deviation of SAT Scores:\", round(largest_std_dev['std_SAT'], 2))\n"
   ]
  }
 ],
 "metadata": {
  "kernelspec": {
   "display_name": "Python 3",
   "language": "python",
   "name": "python3"
  },
  "language_info": {
   "codemirror_mode": {
    "name": "ipython",
    "version": 3
   },
   "file_extension": ".py",
   "mimetype": "text/x-python",
   "name": "python",
   "nbconvert_exporter": "python",
   "pygments_lexer": "ipython3",
   "version": "3.12.2"
  }
 },
 "nbformat": 4,
 "nbformat_minor": 2
}
