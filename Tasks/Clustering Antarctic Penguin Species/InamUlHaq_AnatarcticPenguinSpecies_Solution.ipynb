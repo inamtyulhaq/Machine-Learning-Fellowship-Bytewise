# saw the datacamp solution
# although, i am not familier yet with some syntax used here in the program
# but at least i got to learn this elbow method
# will work on it more sooner
import pandas as pd
import matplotlib.pyplot as plt
import seaborn as sns
from sklearn.cluster import KMeans
from sklearn.preprocessing import StandardScaler

penguins_df = pd.read_csv("penguins.csv")
print(penguins_df.head())
print(penguins_df.info())

penguins_df = pd.get_dummies(penguins_df, dtype='int')

scaler = StandardScaler()
X = scaler.fit_transform(penguins_df)
penguins_preprocessed = pd.DataFrame(data=X, columns=penguins_df.columns)

inertia = []
for k in range(1, 10):
    kmeans = KMeans(n_clusters=k, random_state=42).fit(penguins_preprocessed)
    inertia.append(kmeans.inertia_)

plt.figure(figsize=(10, 6))
plt.plot(range(1, 10), inertia, marker='o', linestyle='--')
plt.xlabel('Elbow method for optimal num of clusters')
plt.ylabel('Inertia')
plt.title('Enoof Clusters')
plt.grid(True)
plt.show()

n_clusters = 4
kmeans = KMeans(n_clusters=n_clusters, random_state=42).fit(penguins_preprocessed)
penguins_df['label'] = kmeans.labels_

plt.figure(figsize=(10, 6))
sns.scatterplot(data=penguins_df, x='label', y='culmen_length_mm', hue='label', palette='viridis', legend=None)
plt.xlabel('Cluster')
plt.ylabel('Culmen Length (mm)')
plt.title(f'K-means Clustering (K={n_clusters})')
plt.grid(True)
plt.show()

numeric_columns = ['culmen_length_mm', 'culmen_depth_mm', 'flipper_length_mm', 'label']
stat_penguins = penguins_df[numeric_columns].groupby('label').mean()
print(stat_penguins)
